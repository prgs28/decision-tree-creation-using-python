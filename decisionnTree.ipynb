{
 "cells": [
  {
   "cell_type": "markdown",
   "metadata": {},
   "source": [
    "# TASK1\n"
   ]
  },
  {
   "cell_type": "code",
   "execution_count": 1,
   "metadata": {},
   "outputs": [],
   "source": [
    "import pandas as pd\n",
    "import numpy as np\n",
    "from sklearn import tree\n",
    "from sklearn.tree import DecisionTreeClassifier, export_graphviz\n",
    "from sklearn.model_selection import train_test_split\n",
    "from matplotlib import pyplot as plt \n",
    "import seaborn as sns\n",
    "import graphviz\n",
    "import pydotplus\n",
    "import io\n",
    "from sklearn.naive_bayes import GaussianNB\n",
    "from sklearn.metrics import accuracy_score\n",
    "from sklearn.metrics import confusion_matrix\n",
    "from scipy import misc\n",
    "import pydot\n",
    "from sklearn.externals.six import StringIO  \n",
    "from IPython.display import Image  \n",
    "from sklearn.tree import export_graphviz\n",
    "import pydotplus\n",
    "from sklearn import tree\n",
    "import os\n",
    "from sklearn.metrics import classification_report\n",
    "from sklearn.naive_bayes import GaussianNB\n",
    "%matplotlib inline\n",
    "from sklearn.metrics import accuracy_score"
   ]
  },
  {
   "cell_type": "code",
   "execution_count": 2,
   "metadata": {},
   "outputs": [],
   "source": [
    "dfr = pd.read_csv('DATASET.csv')\n",
    "y_col=['Amphet','Amyl','Benzos','Coke','Crack','Ecstasy','Heroin','Ketamine','Legalh','LSD','Meth', 'Mushrooms', 'Semer', 'VSA']\n",
    "import csv\n",
    "ifile = open('DATASET.csv', \"r\")\n",
    "reader = csv.reader(ifile)\n",
    "lists = []\n",
    "# initialization and declaration of variables\n",
    "for row in reader:\n",
    "    flag=0\n",
    "    if(row==0):\n",
    "        break\n",
    "    else:\n",
    "        for col in row:\n",
    "            if (col=='CL3')or(col=='CL4')or(col=='CL5')or(col=='CL6'):\n",
    "                lists.append('USER')\n",
    "                flag=1\n",
    "                break\n",
    "        if(flag==0):\n",
    "            lists.append('NOUSER')\n",
    "        \n",
    "df1=dfr.drop(y_col,axis=1)\n",
    "len(lists)\n",
    "del lists[0]\n",
    "df1.insert(loc=13, column='CLASS', value=lists)\n",
    "df1.to_csv('Task1.csv')"
   ]
  },
  {
   "cell_type": "markdown",
   "metadata": {},
   "source": [
    "# TASK2"
   ]
  },
  {
   "cell_type": "code",
   "execution_count": 3,
   "metadata": {},
   "outputs": [],
   "source": [
    "df = pd.read_csv('TASK1.csv')\n",
    "df[\"CLASS\"] = df[\"CLASS\"].astype('category')\n",
    "y=df.CLASS\n",
    "x_temp=df.drop('CLASS', axis=1)\n",
    "X=x_temp.drop(x_temp.columns[x_temp.columns.str.contains('unnamed',case = False)],axis = 1)\n",
    "c = DecisionTreeClassifier(criterion = \"entropy\", min_samples_split = 100)\n"
   ]
  },
  {
   "cell_type": "code",
   "execution_count": 4,
   "metadata": {},
   "outputs": [
    {
     "name": "stdout",
     "output_type": "stream",
     "text": [
      "\n",
      "X_train:\n",
      "\n",
      "(1319, 13)\n",
      "\n",
      "X_test:\n",
      "\n",
      "(566, 13)\n"
     ]
    }
   ],
   "source": [
    "X_train, X_test, y_train, y_test = train_test_split(X, y,test_size=0.30)\n",
    "print (\"\\nX_train:\\n\")\n",
    "print (X_train.shape)\n",
    "print (\"\\nX_test:\\n\")\n",
    "print (X_test.shape)"
   ]
  },
  {
   "cell_type": "code",
   "execution_count": 5,
   "metadata": {},
   "outputs": [
    {
     "data": {
      "text/plain": [
       "DecisionTreeClassifier(class_weight=None, criterion='entropy', max_depth=None,\n",
       "            max_features=None, max_leaf_nodes=None,\n",
       "            min_impurity_decrease=0.0, min_impurity_split=None,\n",
       "            min_samples_leaf=1, min_samples_split=100,\n",
       "            min_weight_fraction_leaf=0.0, presort=False, random_state=None,\n",
       "            splitter='best')"
      ]
     },
     "execution_count": 5,
     "metadata": {},
     "output_type": "execute_result"
    }
   ],
   "source": [
    "c.fit(X_train,y_train)"
   ]
  },
  {
   "cell_type": "code",
   "execution_count": 6,
   "metadata": {},
   "outputs": [],
   "source": [
    "features=['ID','Age','Gender','Education','Country','Ethnicity','Nscore','Escore','Oscore','Ascore','Cscore','Impulsive', 'SS']\n",
    "from sklearn.externals.six import StringIO  \n",
    "from IPython.display import Image  \n",
    "import os\n",
    "os.environ[\"PATH\"] += os.pathsep + 'D:/Program Files (x86)/Graphviz2.38/bin/'\n",
    "\n",
    "dot_data = StringIO()\n",
    "cn = c.classes_"
   ]
  },
  {
   "cell_type": "code",
   "execution_count": 7,
   "metadata": {},
   "outputs": [],
   "source": [
    "with open('DTree.dot', 'w') as f:\n",
    "    dot_data=tree.export_graphviz(c, out_file=f, feature_names=features, class_names=cn)\n",
    "#this generates a dot file not the image file\n",
    "#so i used this link: http://www.webgraphviz.com/ to generate the image\n",
    "#the image is in zip file as DTree.dot\n"
   ]
  },
  {
   "cell_type": "markdown",
   "metadata": {},
   "source": [
    "# TASK3"
   ]
  },
  {
   "cell_type": "code",
   "execution_count": 8,
   "metadata": {},
   "outputs": [],
   "source": [
    "gnb = GaussianNB()\n",
    "y_predgauss = gnb.fit(X_train,y_train).predict(X_test)"
   ]
  },
  {
   "cell_type": "code",
   "execution_count": 9,
   "metadata": {},
   "outputs": [
    {
     "name": "stdout",
     "output_type": "stream",
     "text": [
      "Number of mislabeled points out of a total 566 points : 103\n"
     ]
    }
   ],
   "source": [
    "print(\"Number of mislabeled points out of a total %d points : %d\"\n",
    "      % (X_test.shape[0],(y_test != y_predgauss).sum()))"
   ]
  },
  {
   "cell_type": "markdown",
   "metadata": {},
   "source": [
    "# TASK4"
   ]
  },
  {
   "cell_type": "code",
   "execution_count": 10,
   "metadata": {},
   "outputs": [
    {
     "name": "stdout",
     "output_type": "stream",
     "text": [
      "             precision    recall  f1-score   support\n",
      "\n",
      "     NOUSER       0.74      0.76      0.75       250\n",
      "       USER       0.81      0.78      0.79       316\n",
      "\n",
      "avg / total       0.77      0.77      0.77       566\n",
      "\n"
     ]
    }
   ],
   "source": [
    "#using decision tree classifier\n",
    "ydec_pred=c.predict(X_test)\n",
    "print(classification_report(y_test, ydec_pred))"
   ]
  },
  {
   "cell_type": "code",
   "execution_count": 11,
   "metadata": {},
   "outputs": [
    {
     "name": "stdout",
     "output_type": "stream",
     "text": [
      "             precision    recall  f1-score   support\n",
      "\n",
      "     NOUSER       0.78      0.82      0.80       250\n",
      "       USER       0.85      0.82      0.83       316\n",
      "\n",
      "avg / total       0.82      0.82      0.82       566\n",
      "\n"
     ]
    }
   ],
   "source": [
    "#using gaussian NB classifier\n",
    "confusion_matrix(y_test, y_predgauss)\n",
    "print(classification_report(y_test, y_predgauss))"
   ]
  },
  {
   "cell_type": "markdown",
   "metadata": {},
   "source": [
    "# TASK5"
   ]
  },
  {
   "cell_type": "code",
   "execution_count": 12,
   "metadata": {},
   "outputs": [
    {
     "name": "stdout",
     "output_type": "stream",
     "text": [
      "72.43816254416961\n"
     ]
    }
   ],
   "source": [
    "import numpy as np\n",
    "#import matplotlib.pyplot as p\n",
    "import pandas as pd\n",
    "from sklearn.neighbors import KNeighborsClassifier \n",
    "from sklearn import metrics\n",
    "#from sklearn.cross_validation import KFold\n",
    "\n",
    "knneighbors = KNeighborsClassifier(n_neighbors=3)\n",
    "knneighbors.fit(X_train, y_train)\n",
    "\n",
    "predictions = knneighbors.predict(X_test)\n",
    "actual = y_test\n",
    "accuracy = metrics.accuracy_score(actual,predictions) * 100\n",
    "print(accuracy)"
   ]
  },
  {
   "cell_type": "markdown",
   "metadata": {},
   "source": [
    "# TASK6"
   ]
  },
  {
   "cell_type": "code",
   "execution_count": 13,
   "metadata": {},
   "outputs": [
    {
     "data": {
      "text/plain": [
       "RandomForestClassifier(bootstrap=True, class_weight=None, criterion='gini',\n",
       "            max_depth=2, max_features='auto', max_leaf_nodes=None,\n",
       "            min_impurity_decrease=0.0, min_impurity_split=None,\n",
       "            min_samples_leaf=1, min_samples_split=2,\n",
       "            min_weight_fraction_leaf=0.0, n_estimators=10, n_jobs=1,\n",
       "            oob_score=False, random_state=0, verbose=0, warm_start=False)"
      ]
     },
     "execution_count": 13,
     "metadata": {},
     "output_type": "execute_result"
    }
   ],
   "source": [
    "from sklearn.ensemble import RandomForestClassifier\n",
    "clf = RandomForestClassifier(max_depth=2, random_state=0)\n",
    "clf.fit(X_train, y_train)"
   ]
  },
  {
   "cell_type": "code",
   "execution_count": 14,
   "metadata": {
    "scrolled": true
   },
   "outputs": [
    {
     "name": "stdout",
     "output_type": "stream",
     "text": [
      "[0.05002954 0.13513316 0.00698659 0.1371996  0.40132755 0.00146419\n",
      " 0.02040536 0.         0.02311887 0.         0.03369676 0.01549748\n",
      " 0.1751409 ]\n"
     ]
    }
   ],
   "source": [
    "print(clf.feature_importances_)"
   ]
  },
  {
   "cell_type": "code",
   "execution_count": 16,
   "metadata": {},
   "outputs": [
    {
     "data": {
      "text/plain": [
       "0.8021201413427562"
      ]
     },
     "execution_count": 16,
     "metadata": {},
     "output_type": "execute_result"
    }
   ],
   "source": [
    "clf.score(X_test,y_test)"
   ]
  },
  {
   "cell_type": "code",
   "execution_count": 15,
   "metadata": {},
   "outputs": [
    {
     "data": {
      "text/plain": [
       "(<566x70 sparse matrix of type '<class 'numpy.int64'>'\n",
       " \twith 16980 stored elements in Compressed Sparse Row format>,\n",
       " array([ 0,  7, 14, 21, 28, 35, 42, 49, 56, 63, 70], dtype=int32))"
      ]
     },
     "execution_count": 15,
     "metadata": {},
     "output_type": "execute_result"
    }
   ],
   "source": [
    "clf.decision_path(X_test)"
   ]
  },
  {
   "cell_type": "code",
   "execution_count": null,
   "metadata": {},
   "outputs": [],
   "source": []
  },
  {
   "cell_type": "code",
   "execution_count": null,
   "metadata": {},
   "outputs": [],
   "source": []
  }
 ],
 "metadata": {
  "kernelspec": {
   "display_name": "Python 3",
   "language": "python",
   "name": "python3"
  },
  "language_info": {
   "codemirror_mode": {
    "name": "ipython",
    "version": 3
   },
   "file_extension": ".py",
   "mimetype": "text/x-python",
   "name": "python",
   "nbconvert_exporter": "python",
   "pygments_lexer": "ipython3",
   "version": "3.6.4"
  }
 },
 "nbformat": 4,
 "nbformat_minor": 2
}
